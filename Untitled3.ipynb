{
  "nbformat": 4,
  "nbformat_minor": 0,
  "metadata": {
    "colab": {
      "provenance": [],
      "mount_file_id": "1DWMr0PpQMIx-t3T7u_UQ9P4HdtmjYQp8",
      "authorship_tag": "ABX9TyMDPkimbmXCZcws7OV0q892",
      "include_colab_link": true
    },
    "kernelspec": {
      "name": "python3",
      "display_name": "Python 3"
    },
    "language_info": {
      "name": "python"
    }
  },
  "cells": [
    {
      "cell_type": "markdown",
      "metadata": {
        "id": "view-in-github",
        "colab_type": "text"
      },
      "source": [
        "<a href=\"https://colab.research.google.com/github/aliseidu8855/simple/blob/main/Untitled3.ipynb\" target=\"_parent\"><img src=\"https://colab.research.google.com/assets/colab-badge.svg\" alt=\"Open In Colab\"/></a>"
      ]
    },
    {
      "cell_type": "code",
      "execution_count": 17,
      "metadata": {
        "id": "2BaSQQYkSjUx"
      },
      "outputs": [],
      "source": [
        "# First install all required packages (run this cell first)\n",
        "!pip install -q tensorflow gradio fastapi pillow\n",
        "\n",
        "# Now run your application code\n",
        "import numpy as np\n",
        "from tensorflow.keras.models import load_model\n",
        "from PIL import Image\n",
        "import gradio as gr\n",
        "import os\n",
        "\n",
        "\n"
      ]
    },
    {
      "cell_type": "code",
      "source": [
        "# Configuration - MUST UPDATE THESE!\n",
        "MODEL_PATH = \"/best_model_26_december_keras.keras\"  # Upload your cancer detection model first\n",
        "CLASS_NAMES = [\"Cancer\", \"No Cancer\"]  # Binary classification\n",
        "INPUT_SIZE = (224, 224)  # Common size for medical imaging models"
      ],
      "metadata": {
        "id": "kyzXm9yoTy8_"
      },
      "execution_count": 18,
      "outputs": []
    },
    {
      "cell_type": "code",
      "source": [
        "# Load model with binary compatibility\n",
        "try:\n",
        "    model = load_model(MODEL_PATH)\n",
        "    print(f\"Model loaded. Output shape: {model.output_shape}\")  # Should be (None, 1)\n",
        "except Exception as e:\n",
        "    print(f\"Model loading failed: {str(e)}\")\n",
        "    model = None\n",
        "\n",
        "def predict_cancer(img):\n",
        "    if model is None:\n",
        "        return {\"error\": \"Model not loaded\"}\n",
        "\n",
        "    try:\n",
        "        # Convert to grayscale and resize\n",
        "        img = Image.fromarray(img) if isinstance(img, np.ndarray) else Image.open(img)\n",
        "        img = img.convert(\"L\").resize(INPUT_SIZE)\n",
        "\n",
        "        # Preprocess\n",
        "        img_array = np.array(img) / 255.0\n",
        "        img_array = np.expand_dims(img_array, axis=(0, -1))  # Shape: (1, 28, 28, 1)\n",
        "\n",
        "        # Predict (single probability output)\n",
        "        probability = float(model.predict(img_array)[0][0])\n",
        "        diagnosis = CLASS_NAMES[int(round(probability))]\n",
        "\n",
        "        return {\n",
        "            \"diagnosis\": diagnosis,\n",
        "            \"confidence\": probability if diagnosis == \"Cancer\" else 1 - probability,\n",
        "            \"probability\": probability  # Raw model output (0-1)\n",
        "        }\n",
        "    except Exception as e:\n",
        "        return {\"error\": str(e)}\n",
        "\n",
        "# Gradio interface\n",
        "gr.Interface(\n",
        "    fn=predict_cancer,\n",
        "    inputs=gr.Image(type=\"filepath\", label=\"Upload Medical Image\"),\n",
        "    outputs=gr.JSON(label=\"Results\"),\n",
        "    title=\"Cancer Detection (Binary)\",\n",
        "    examples=[[\"example.png\"]] if os.path.exists(\"example.png\") else None\n",
        ").launch()"
      ],
      "metadata": {
        "colab": {
          "base_uri": "https://localhost:8080/",
          "height": 663
        },
        "id": "tUe65ON_YFwr",
        "outputId": "ba52c5d7-07e8-4b1f-cd2e-fd4a1d8fb4b7"
      },
      "execution_count": 23,
      "outputs": [
        {
          "output_type": "stream",
          "name": "stdout",
          "text": [
            "Model loaded. Output shape: (None, 1)\n",
            "Running Gradio in a Colab notebook requires sharing enabled. Automatically setting `share=True` (you can turn this off by setting `share=False` in `launch()` explicitly).\n",
            "\n",
            "Colab notebook detected. To show errors in colab notebook, set debug=True in launch()\n",
            "* Running on public URL: https://a76a6833d1a48106f9.gradio.live\n",
            "\n",
            "This share link expires in 72 hours. For free permanent hosting and GPU upgrades, run `gradio deploy` from the terminal in the working directory to deploy to Hugging Face Spaces (https://huggingface.co/spaces)\n"
          ]
        },
        {
          "output_type": "display_data",
          "data": {
            "text/plain": [
              "<IPython.core.display.HTML object>"
            ],
            "text/html": [
              "<div><iframe src=\"https://a76a6833d1a48106f9.gradio.live\" width=\"100%\" height=\"500\" allow=\"autoplay; camera; microphone; clipboard-read; clipboard-write;\" frameborder=\"0\" allowfullscreen></iframe></div>"
            ]
          },
          "metadata": {}
        },
        {
          "output_type": "execute_result",
          "data": {
            "text/plain": []
          },
          "metadata": {},
          "execution_count": 23
        }
      ]
    }
  ]
}